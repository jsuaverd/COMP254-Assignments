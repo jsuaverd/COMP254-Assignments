{
 "cells": [
  {
   "cell_type": "code",
   "execution_count": 1,
   "metadata": {},
   "outputs": [
    {
     "name": "stderr",
     "output_type": "stream",
     "text": [
      "/opt/anaconda3/envs/tensorflow/lib/python3.10/site-packages/tqdm/auto.py:21: TqdmWarning: IProgress not found. Please update jupyter and ipywidgets. See https://ipywidgets.readthedocs.io/en/stable/user_install.html\n",
      "  from .autonotebook import tqdm as notebook_tqdm\n"
     ]
    }
   ],
   "source": [
    "import matplotlib.pyplot as plt\n",
    "import numpy as np\n",
    "import pandas as pd\n",
    "from sklearn.cluster import KMeans\n",
    "from sklearn.metrics.cluster import silhouette_score, davies_bouldin_score\n",
    "from collections import Counter\n",
    "from sklearn.decomposition import PCA\n",
    "from sklearn.preprocessing import StandardScaler, MinMaxScaler, RobustScaler\n",
    "from sklearn.manifold import TSNE\n",
    "from sklearn.pipeline import Pipeline\n",
    "import umap.umap_ as umap\n",
    "import warnings\n",
    "warnings.filterwarnings(\"ignore\")"
   ]
  },
  {
   "cell_type": "code",
   "execution_count": 2,
   "metadata": {},
   "outputs": [],
   "source": [
    "# Load the dataset\n",
    "X_train = pd.read_csv('data/umist_cropped.csv')"
   ]
  },
  {
   "cell_type": "code",
   "execution_count": 3,
   "metadata": {},
   "outputs": [],
   "source": [
    "def apply_scaling(data, method='standard',):\n",
    "    if method == 'standard':\n",
    "        scaler = StandardScaler()\n",
    "    elif method == 'minmax':\n",
    "        scaler = MinMaxScaler()\n",
    "    elif method == 'robust':\n",
    "        scaler = RobustScaler()\n",
    "    else:\n",
    "        raise ValueError(\"Invalid scaling method. Choose 'standard', 'minmax', or 'robust'.\")\n",
    "    \n",
    "    return scaler.fit_transform(data)\n",
    "\n",
    "\n",
    "def apply_reduction(data, method='pca', random_state=42):\n",
    "    if method == 'pca':\n",
    "        reducer = PCA(n_components=0.99,random_state=random_state)\n",
    "    elif method == 'umap':\n",
    "        reducer = Pipeline([\n",
    "            ('pca', PCA(n_components=0.99,random_state=random_state)),\n",
    "            ('umap', umap.UMAP(n_components=10,random_state=random_state))\n",
    "        ])\n",
    "    else:\n",
    "        raise ValueError(\"Invalid reduction method. Choose 'pca', or 'umap'.\")\n",
    "    \n",
    "    return reducer.fit_transform(data)"
   ]
  },
  {
   "cell_type": "code",
   "execution_count": 4,
   "metadata": {},
   "outputs": [],
   "source": [
    "from sklearn.metrics import silhouette_score\n",
    "from sklearn.cluster import KMeans, AgglomerativeClustering\n",
    "from sklearn.mixture import GaussianMixture\n",
    "\n",
    "def cluster_kmeans(data, n_clusters=20, random_state=42, init='k-means++',n_init=50):\n",
    "    model = KMeans(n_clusters=n_clusters, random_state=random_state, init=init, n_init=n_init)\n",
    "    labels = model.fit_predict(data)\n",
    "    score = silhouette_score(data, labels, metric='euclidean')\n",
    "    return score\n"
   ]
  },
  {
   "cell_type": "code",
   "execution_count": 5,
   "metadata": {},
   "outputs": [
    {
     "name": "stdout",
     "output_type": "stream",
     "text": [
      "kmeans standard, pca, 0.11159319350371254\n",
      "kmeans standard, umap, 0.484418123960495\n",
      "kmeans minmax, pca, 0.11887469269726746\n",
      "kmeans minmax, umap, 0.4843291640281677\n",
      "kmeans robust, pca, 0.11138358232030555\n",
      "kmeans robust, umap, 0.4910973608493805\n"
     ]
    }
   ],
   "source": [
    "scaling_methods = ['standard', 'minmax', 'robust']\n",
    "reduction_methods = ['pca', 'umap']\n",
    "\n",
    "results = []\n",
    "\n",
    "for scale in scaling_methods:\n",
    "    data_scaled = apply_scaling(X_train, method=scale)\n",
    "    for reduction in reduction_methods:\n",
    "        data_scaled = apply_reduction(data_scaled, method=reduction)\n",
    "        score = cluster_kmeans(data_scaled)\n",
    "        print(f'kmeans {scale}, {reduction}, {score}')\n",
    "        results.append({\n",
    "            'Scaling': scale,\n",
    "            'Reduction': reduction,\n",
    "            'Clustering': 'kmeans',\n",
    "            'Silhouette Score': score\n",
    "        })\n"
   ]
  },
  {
   "cell_type": "code",
   "execution_count": 6,
   "metadata": {},
   "outputs": [],
   "source": [
    "from sklearn.metrics import silhouette_score\n",
    "from scipy.spatial.distance import pdist, squareform, euclidean, cityblock, cosine, minkowski\n",
    "from scipy.cluster.hierarchy import linkage, dendrogram, fcluster\n",
    "\n",
    "\n",
    "def cluster_hierarchical(data, method='average', metric='euclidean'):\n",
    "    # Compute the distance matrix\n",
    "    distance_matrix = pdist(data, metric=metric)\n",
    "    # Perform hierarchical clustering\n",
    "    distances = linkage(distance_matrix, method=method)\n",
    "    # Form clusters with a max of 20 clusters\n",
    "    clusters = fcluster(distances, 20, criterion='maxclust')\n",
    "    # Compute the silhouette score\n",
    "    score = silhouette_score(data, clusters, metric=metric)\n",
    "    return score"
   ]
  },
  {
   "cell_type": "code",
   "execution_count": 10,
   "metadata": {},
   "outputs": [
    {
     "name": "stdout",
     "output_type": "stream",
     "text": [
      "hierarchical hierarchical (cosine, centroid), minmax, umap, Silhouette Score: 0.642193615436554\n",
      "hierarchical hierarchical (cosine, average), standard, umap, Silhouette Score: 0.6352740526199341\n",
      "hierarchical hierarchical (cosine, centroid), standard, umap, Silhouette Score: 0.6342313885688782\n",
      "hierarchical hierarchical (cosine, average), minmax, umap, Silhouette Score: 0.6174703240394592\n",
      "hierarchical hierarchical (cosine, complete), standard, umap, Silhouette Score: 0.6076905131340027\n",
      "hierarchical hierarchical (cosine, complete), minmax, umap, Silhouette Score: 0.5709967017173767\n",
      "hierarchical hierarchical (minkowski, centroid), standard, umap, Silhouette Score: 0.4780019744916986\n",
      "hierarchical hierarchical (euclidean, centroid), standard, umap, Silhouette Score: 0.4780019521713257\n",
      "hierarchical hierarchical (euclidean, average), standard, umap, Silhouette Score: 0.47655507922172546\n",
      "hierarchical hierarchical (minkowski, average), standard, umap, Silhouette Score: 0.4765550534770971\n",
      "hierarchical hierarchical (cityblock, average), standard, umap, Silhouette Score: 0.47452988578973987\n",
      "hierarchical hierarchical (euclidean, average), minmax, umap, Silhouette Score: 0.46371346712112427\n",
      "hierarchical hierarchical (minkowski, average), minmax, umap, Silhouette Score: 0.46371345504777006\n",
      "hierarchical hierarchical (euclidean, complete), standard, umap, Silhouette Score: 0.4614866077899933\n",
      "hierarchical hierarchical (minkowski, complete), standard, umap, Silhouette Score: 0.4614865807821678\n",
      "hierarchical hierarchical (cityblock, centroid), standard, umap, Silhouette Score: 0.45554778750510744\n",
      "hierarchical hierarchical (cityblock, complete), minmax, umap, Silhouette Score: 0.45538214816415795\n",
      "hierarchical hierarchical (cityblock, average), minmax, umap, Silhouette Score: 0.4517430236044633\n",
      "hierarchical hierarchical (euclidean, centroid), minmax, umap, Silhouette Score: 0.44713521003723145\n",
      "hierarchical hierarchical (minkowski, centroid), minmax, umap, Silhouette Score: 0.4471352029796161\n",
      "hierarchical hierarchical (cityblock, centroid), minmax, umap, Silhouette Score: 0.4432791428335935\n",
      "hierarchical hierarchical (minkowski, complete), minmax, umap, Silhouette Score: 0.4398128471824011\n",
      "hierarchical hierarchical (euclidean, complete), minmax, umap, Silhouette Score: 0.4398128390312195\n",
      "hierarchical hierarchical (cityblock, complete), standard, umap, Silhouette Score: 0.42909157557820116\n",
      "hierarchical hierarchical (cityblock, single), standard, umap, Silhouette Score: 0.2465166254625404\n",
      "hierarchical hierarchical (cityblock, single), minmax, umap, Silhouette Score: 0.22773884216757193\n",
      "hierarchical hierarchical (cosine, average), standard, pca, Silhouette Score: 0.1831463969020082\n",
      "hierarchical hierarchical (cosine, average), minmax, pca, Silhouette Score: 0.18167121867565975\n",
      "hierarchical hierarchical (cosine, single), minmax, umap, Silhouette Score: 0.1600630134344101\n",
      "hierarchical hierarchical (cosine, complete), minmax, pca, Silhouette Score: 0.159841439895312\n",
      "hierarchical hierarchical (euclidean, single), minmax, umap, Silhouette Score: 0.15914174914360046\n",
      "hierarchical hierarchical (minkowski, single), minmax, umap, Silhouette Score: 0.15914174411794849\n",
      "hierarchical hierarchical (cosine, centroid), minmax, pca, Silhouette Score: 0.15355812318079728\n",
      "hierarchical hierarchical (cosine, complete), standard, pca, Silhouette Score: 0.13125501415895982\n",
      "hierarchical hierarchical (cosine, single), standard, umap, Silhouette Score: 0.11829648166894913\n",
      "hierarchical hierarchical (cityblock, centroid), standard, pca, Silhouette Score: 0.10370024873911145\n",
      "hierarchical hierarchical (euclidean, average), minmax, pca, Silhouette Score: 0.10178536818153931\n",
      "hierarchical hierarchical (minkowski, average), minmax, pca, Silhouette Score: 0.1017853681815393\n",
      "hierarchical hierarchical (cityblock, average), minmax, pca, Silhouette Score: 0.09858213198227103\n",
      "hierarchical hierarchical (cityblock, average), standard, pca, Silhouette Score: 0.094857901794672\n",
      "hierarchical hierarchical (minkowski, complete), minmax, pca, Silhouette Score: 0.09244071688729005\n",
      "hierarchical hierarchical (euclidean, complete), minmax, pca, Silhouette Score: 0.09244071688729004\n",
      "hierarchical hierarchical (cityblock, centroid), minmax, pca, Silhouette Score: 0.0915042638169559\n",
      "hierarchical hierarchical (cityblock, single), standard, pca, Silhouette Score: 0.08779114617643512\n",
      "hierarchical hierarchical (euclidean, complete), standard, pca, Silhouette Score: 0.08774876017897842\n",
      "hierarchical hierarchical (minkowski, complete), standard, pca, Silhouette Score: 0.0877487601789784\n",
      "hierarchical hierarchical (minkowski, single), standard, umap, Silhouette Score: 0.08009568983517702\n",
      "hierarchical hierarchical (euclidean, single), standard, umap, Silhouette Score: 0.08009568601846695\n",
      "hierarchical hierarchical (cityblock, single), minmax, pca, Silhouette Score: 0.0765304642037242\n",
      "hierarchical hierarchical (euclidean, average), standard, pca, Silhouette Score: 0.06261599216181987\n",
      "hierarchical hierarchical (minkowski, average), standard, pca, Silhouette Score: 0.06261599216181975\n",
      "hierarchical hierarchical (cityblock, complete), minmax, pca, Silhouette Score: 0.04412425354976883\n",
      "hierarchical hierarchical (cityblock, complete), standard, pca, Silhouette Score: 0.041777688558035854\n",
      "hierarchical hierarchical (cosine, centroid), standard, pca, Silhouette Score: 0.031027880158154327\n",
      "hierarchical hierarchical (minkowski, single), standard, pca, Silhouette Score: 0.012792385658112445\n",
      "hierarchical hierarchical (euclidean, single), standard, pca, Silhouette Score: 0.012792385658112361\n",
      "hierarchical hierarchical (minkowski, single), minmax, pca, Silhouette Score: 0.0019061967540149076\n",
      "hierarchical hierarchical (euclidean, single), minmax, pca, Silhouette Score: 0.001906196754014895\n",
      "hierarchical hierarchical (euclidean, centroid), standard, pca, Silhouette Score: -0.024824092209347958\n",
      "hierarchical hierarchical (minkowski, centroid), standard, pca, Silhouette Score: -0.0248240922093481\n",
      "hierarchical hierarchical (euclidean, centroid), minmax, pca, Silhouette Score: -0.03209131570786682\n",
      "hierarchical hierarchical (minkowski, centroid), minmax, pca, Silhouette Score: -0.03209131570786697\n",
      "hierarchical hierarchical (cosine, single), minmax, pca, Silhouette Score: -0.23566040144618464\n",
      "hierarchical hierarchical (cosine, single), standard, pca, Silhouette Score: -0.23848933170030098\n"
     ]
    }
   ],
   "source": [
    "scaling_methods = ['standard', 'minmax']\n",
    "reduction_methods = ['pca', 'umap']\n",
    "metrics = ['minkowski', 'cosine', 'cityblock', 'euclidean']\n",
    "methods = ['centroid', 'single', 'complete', 'average']\n",
    "\n",
    "results = []\n",
    "\n",
    "# Collect results\n",
    "for scale in scaling_methods:\n",
    "    data_scaled = apply_scaling(X_train, method=scale)\n",
    "    for reduction in reduction_methods:\n",
    "        data_scaled = apply_reduction(data_scaled, method=reduction)\n",
    "        for metric in metrics:\n",
    "            for method in methods:\n",
    "                score = cluster_hierarchical(data_scaled, method=method, metric=metric)\n",
    "                results.append({\n",
    "                    'Scaling': scale,\n",
    "                    'Reduction': reduction,\n",
    "                    'Clustering': f'hierarchical ({metric}, {method})',\n",
    "                    'Silhouette Score': score,\n",
    "                })\n",
    "\n",
    "# Sort the results by Silhouette Score or DBCV in descending order\n",
    "results_sorted = sorted(results, key=lambda x: x['Silhouette Score'], reverse=True)\n",
    "\n",
    "# Print sorted results\n",
    "for result in results_sorted:\n",
    "    print(f\"hierarchical {result['Clustering']}, {result['Scaling']}, {result['Reduction']}, Silhouette Score: {result['Silhouette Score']}\")"
   ]
  },
  {
   "cell_type": "code",
   "execution_count": 8,
   "metadata": {},
   "outputs": [],
   "source": [
    "from sklearn.mixture import GaussianMixture\n",
    "\n",
    "def cluster_gmm(data, cov_type = 'full'):\n",
    "    # Create and fit the Gaussian Mixture Model\n",
    "    model = GaussianMixture(n_components=20, random_state=42, covariance_type=cov_type)\n",
    "    model.fit(data)\n",
    "    # Predict the labels\n",
    "    labels = model.predict(data)\n",
    "    # Calculate the silhouette score\n",
    "    score = silhouette_score(data, labels)\n",
    "    return score"
   ]
  },
  {
   "cell_type": "code",
   "execution_count": 9,
   "metadata": {},
   "outputs": [
    {
     "name": "stdout",
     "output_type": "stream",
     "text": [
      "gmm standard, pca, 0.10458112179464027\n",
      "gmm standard, pca, 0.10458112179464027\n",
      "gmm standard, pca, 0.09438252706175396\n",
      "gmm standard, pca, 0.1013205287034697\n",
      "gmm standard, umap, 0.4409905970096588\n",
      "gmm standard, umap, 0.4289001524448395\n",
      "gmm standard, umap, 0.4467089772224426\n",
      "gmm standard, umap, 0.4419021010398865\n",
      "gmm minmax, pca, 0.11067264190642666\n",
      "gmm minmax, pca, 0.11088471544958428\n",
      "gmm minmax, pca, 0.1091609557721799\n",
      "gmm minmax, pca, 0.11084793008315155\n",
      "gmm minmax, umap, 0.4899003207683563\n",
      "gmm minmax, umap, 0.47197702527046204\n",
      "gmm minmax, umap, 0.49154043197631836\n",
      "gmm minmax, umap, 0.4908941686153412\n"
     ]
    }
   ],
   "source": [
    "scaling_methods = ['standard', 'minmax']\n",
    "covariance_types = ['full', 'tied', 'diag', 'spherical']\n",
    "\n",
    "for scale in scaling_methods:\n",
    "    data_scaled = apply_scaling(X_train, method=scale)\n",
    "    for reduction in reduction_methods:\n",
    "        for cov in covariance_types:\n",
    "            data_reduced = apply_reduction(data_scaled, method=reduction)\n",
    "            score = cluster_gmm(data_reduced, cov_type=cov)\n",
    "            print(f'gmm {scale}, {reduction}, {score}')\n",
    "            results.append({\n",
    "                'Scaling': scale,\n",
    "                'Reduction': reduction,\n",
    "                'Clustering': 'GMM',\n",
    "                'Silhouette Score': score\n",
    "            })"
   ]
  }
 ],
 "metadata": {
  "kernelspec": {
   "display_name": "Python 3 (ipykernel)",
   "language": "python",
   "name": "python3"
  },
  "language_info": {
   "codemirror_mode": {
    "name": "ipython",
    "version": 3
   },
   "file_extension": ".py",
   "mimetype": "text/x-python",
   "name": "python",
   "nbconvert_exporter": "python",
   "pygments_lexer": "ipython3",
   "version": "3.10.9"
  }
 },
 "nbformat": 4,
 "nbformat_minor": 4
}
